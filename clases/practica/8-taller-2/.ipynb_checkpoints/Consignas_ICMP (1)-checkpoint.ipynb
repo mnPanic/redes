{
 "cells": [
  {
   "cell_type": "markdown",
   "metadata": {
    "id": "1W9LlWTDepwW"
   },
   "source": [
    "## Bienvenides al taller de Traceroute"
   ]
  },
  {
   "cell_type": "code",
   "execution_count": 1,
   "metadata": {
    "id": "T05RZqDjeuA1"
   },
   "outputs": [],
   "source": [
    "from scapy.all import *"
   ]
  },
  {
   "cell_type": "markdown",
   "metadata": {
    "id": "xgDKeASsewZA"
   },
   "source": [
    "# SCAPY\n",
    "\n",
    "---\n",
    "\n",
    "* Es una librería de Python\n",
    "* Es muy útil para:\n",
    "    * Crear paquetes de red\n",
    "    * Decodificar paquetes\n",
    "    * Capturar\n",
    "    * Enviar y recibir paquetes\n",
    "    * Documentación: https://scapy.readthedocs.io/en/latest/\n"
   ]
  },
  {
   "cell_type": "markdown",
   "metadata": {
    "id": "zHAYcxe6e7Fj"
   },
   "source": [
    "Ejercicio 1: \n",
    "* Crear paquete IP. Hacer ls a IP.\n",
    "* Poner destino (dst) a `nic.ar`\n",
    "* Poner TTL = 10\n",
    "* Probar con otros protocolos\n",
    "* Hacer hexdump(frame).. Nos suena?"
   ]
  },
  {
   "cell_type": "code",
   "execution_count": 11,
   "metadata": {
    "id": "coXP81Ybe8eV"
   },
   "outputs": [
    {
     "name": "stdout",
     "output_type": "stream",
     "text": [
      "0000  FF FF FF FF FF FF 40 8D 5C 45 52 39 08 00 45 00  ......@.\\ER9..E.\n",
      "0010  00 28 00 01 00 00 01 06 9E AA C0 A8 00 06 C8 6C  .(.............l\n",
      "0020  92 0A 00 14 00 50 00 00 00 00 00 00 00 00 50 02  .....P........P.\n",
      "0030  20 00 74 59 00 00                                 .tY..\n"
     ]
    },
    {
     "data": {
      "text/plain": [
       "<Ether  dst=ff:ff:ff:ff:ff:ff src=40:8d:5c:45:52:39 type=IPv4 |<IP  version=4 ihl=5 tos=0x0 len=40 id=1 flags= frag=0 ttl=1 proto=tcp chksum=0x9eaa src=192.168.0.6 dst=200.108.146.10 |<TCP  sport=ftp_data dport=http seq=0 ack=0 dataofs=5 reserved=0 flags=S window=8192 chksum=0x7459 urgptr=0 |>>>"
      ]
     },
     "execution_count": 11,
     "metadata": {},
     "output_type": "execute_result"
    }
   ],
   "source": [
    "IP()\n",
    "# ls(IP): Si tenemos dudas de que parametros recibe\n",
    "IP(dst='nic.ar', ttl=10)\n",
    "   \n",
    "# Encapsular\n",
    "frame = Ether(dst='ff:ff:ff:ff:ff:ff')/IP(dst=['nic.ar', 'uba.ar'], ttl=1)/TCP()/\"GET /index.html HTTP/1.0 \\n\\n\"\n",
    "hexdump(frame)\n",
    "\n",
    "r = raw(frame)\n",
    "\n",
    "Ether(r)"
   ]
  },
  {
   "cell_type": "markdown",
   "metadata": {
    "id": "4lZWwZyAe9v-"
   },
   "source": [
    "Ejercicio 2: Vamos por algo más divertido.. *Enviar paquetes*\n",
    "* Usar send - capa 3\n",
    "* Usar sendp - capa 2"
   ]
  },
  {
   "cell_type": "code",
   "execution_count": 14,
   "metadata": {
    "id": "cdPF1R0FfASr"
   },
   "outputs": [
    {
     "ename": "PermissionError",
     "evalue": "[Errno 1] Operation not permitted",
     "output_type": "error",
     "traceback": [
      "\u001b[0;31m---------------------------------------------------------------------------\u001b[0m",
      "\u001b[0;31mPermissionError\u001b[0m                           Traceback (most recent call last)",
      "\u001b[0;32m<ipython-input-14-f8b11a3b410b>\u001b[0m in \u001b[0;36m<module>\u001b[0;34m\u001b[0m\n\u001b[0;32m----> 1\u001b[0;31m \u001b[0msend\u001b[0m\u001b[0;34m(\u001b[0m \u001b[0mIP\u001b[0m\u001b[0;34m(\u001b[0m\u001b[0mdst\u001b[0m\u001b[0;34m=\u001b[0m\u001b[0;34m[\u001b[0m\u001b[0;34m'nic.ar'\u001b[0m\u001b[0;34m,\u001b[0m \u001b[0;34m'uba.ar'\u001b[0m\u001b[0;34m]\u001b[0m\u001b[0;34m,\u001b[0m \u001b[0mttl\u001b[0m\u001b[0;34m=\u001b[0m\u001b[0;36m1\u001b[0m\u001b[0;34m)\u001b[0m\u001b[0;34m)\u001b[0m\u001b[0;34m\u001b[0m\u001b[0;34m\u001b[0m\u001b[0m\n\u001b[0m",
      "\u001b[0;32m~/.local/lib/python3.6/site-packages/scapy/sendrecv.py\u001b[0m in \u001b[0;36msend\u001b[0;34m(x, iface, **kargs)\u001b[0m\n\u001b[1;32m    427\u001b[0m         \u001b[0;32mlambda\u001b[0m \u001b[0miface\u001b[0m\u001b[0;34m:\u001b[0m \u001b[0miface\u001b[0m\u001b[0;34m.\u001b[0m\u001b[0ml3socket\u001b[0m\u001b[0;34m(\u001b[0m\u001b[0;34m)\u001b[0m\u001b[0;34m,\u001b[0m\u001b[0;34m\u001b[0m\u001b[0;34m\u001b[0m\u001b[0m\n\u001b[1;32m    428\u001b[0m         \u001b[0miface\u001b[0m\u001b[0;34m=\u001b[0m\u001b[0miface\u001b[0m\u001b[0;34m,\u001b[0m\u001b[0;34m\u001b[0m\u001b[0;34m\u001b[0m\u001b[0m\n\u001b[0;32m--> 429\u001b[0;31m         \u001b[0;34m**\u001b[0m\u001b[0mkargs\u001b[0m\u001b[0;34m\u001b[0m\u001b[0;34m\u001b[0m\u001b[0m\n\u001b[0m\u001b[1;32m    430\u001b[0m     )\n\u001b[1;32m    431\u001b[0m \u001b[0;34m\u001b[0m\u001b[0m\n",
      "\u001b[0;32m~/.local/lib/python3.6/site-packages/scapy/sendrecv.py\u001b[0m in \u001b[0;36m_send\u001b[0;34m(x, _func, inter, loop, iface, count, verbose, realtime, return_packets, socket, **kargs)\u001b[0m\n\u001b[1;32m    392\u001b[0m     \u001b[0mneed_closing\u001b[0m \u001b[0;34m=\u001b[0m \u001b[0msocket\u001b[0m \u001b[0;32mis\u001b[0m \u001b[0;32mNone\u001b[0m\u001b[0;34m\u001b[0m\u001b[0;34m\u001b[0m\u001b[0m\n\u001b[1;32m    393\u001b[0m     \u001b[0miface\u001b[0m \u001b[0;34m=\u001b[0m \u001b[0mresolve_iface\u001b[0m\u001b[0;34m(\u001b[0m\u001b[0miface\u001b[0m \u001b[0;32mor\u001b[0m \u001b[0mconf\u001b[0m\u001b[0;34m.\u001b[0m\u001b[0miface\u001b[0m\u001b[0;34m)\u001b[0m\u001b[0;34m\u001b[0m\u001b[0;34m\u001b[0m\u001b[0m\n\u001b[0;32m--> 394\u001b[0;31m     \u001b[0msocket\u001b[0m \u001b[0;34m=\u001b[0m \u001b[0msocket\u001b[0m \u001b[0;32mor\u001b[0m \u001b[0m_func\u001b[0m\u001b[0;34m(\u001b[0m\u001b[0miface\u001b[0m\u001b[0;34m)\u001b[0m\u001b[0;34m(\u001b[0m\u001b[0miface\u001b[0m\u001b[0;34m=\u001b[0m\u001b[0miface\u001b[0m\u001b[0;34m,\u001b[0m \u001b[0;34m**\u001b[0m\u001b[0mkargs\u001b[0m\u001b[0;34m)\u001b[0m\u001b[0;34m\u001b[0m\u001b[0;34m\u001b[0m\u001b[0m\n\u001b[0m\u001b[1;32m    395\u001b[0m     results = __gen_send(socket, x, inter=inter, loop=loop,\n\u001b[1;32m    396\u001b[0m                          \u001b[0mcount\u001b[0m\u001b[0;34m=\u001b[0m\u001b[0mcount\u001b[0m\u001b[0;34m,\u001b[0m \u001b[0mverbose\u001b[0m\u001b[0;34m=\u001b[0m\u001b[0mverbose\u001b[0m\u001b[0;34m,\u001b[0m\u001b[0;34m\u001b[0m\u001b[0;34m\u001b[0m\u001b[0m\n",
      "\u001b[0;32m~/.local/lib/python3.6/site-packages/scapy/arch/linux.py\u001b[0m in \u001b[0;36m__init__\u001b[0;34m(self, iface, type, promisc, filter, nofilter, monitor)\u001b[0m\n\u001b[1;32m    485\u001b[0m             )\n\u001b[1;32m    486\u001b[0m         self.ins = socket.socket(\n\u001b[0;32m--> 487\u001b[0;31m             socket.AF_PACKET, socket.SOCK_RAW, socket.htons(type))\n\u001b[0m\u001b[1;32m    488\u001b[0m         \u001b[0mself\u001b[0m\u001b[0;34m.\u001b[0m\u001b[0mins\u001b[0m\u001b[0;34m.\u001b[0m\u001b[0msetsockopt\u001b[0m\u001b[0;34m(\u001b[0m\u001b[0msocket\u001b[0m\u001b[0;34m.\u001b[0m\u001b[0mSOL_SOCKET\u001b[0m\u001b[0;34m,\u001b[0m \u001b[0msocket\u001b[0m\u001b[0;34m.\u001b[0m\u001b[0mSO_RCVBUF\u001b[0m\u001b[0;34m,\u001b[0m \u001b[0;36m0\u001b[0m\u001b[0;34m)\u001b[0m\u001b[0;34m\u001b[0m\u001b[0;34m\u001b[0m\u001b[0m\n\u001b[1;32m    489\u001b[0m         \u001b[0;32mif\u001b[0m \u001b[0;32mnot\u001b[0m \u001b[0mnofilter\u001b[0m\u001b[0;34m:\u001b[0m\u001b[0;34m\u001b[0m\u001b[0;34m\u001b[0m\u001b[0m\n",
      "\u001b[0;32m/usr/lib/python3.6/socket.py\u001b[0m in \u001b[0;36m__init__\u001b[0;34m(self, family, type, proto, fileno)\u001b[0m\n\u001b[1;32m    142\u001b[0m         \u001b[0;31m# constructor of _socket.socket converts the given argument to an\u001b[0m\u001b[0;34m\u001b[0m\u001b[0;34m\u001b[0m\u001b[0;34m\u001b[0m\u001b[0m\n\u001b[1;32m    143\u001b[0m         \u001b[0;31m# integer automatically.\u001b[0m\u001b[0;34m\u001b[0m\u001b[0;34m\u001b[0m\u001b[0;34m\u001b[0m\u001b[0m\n\u001b[0;32m--> 144\u001b[0;31m         \u001b[0m_socket\u001b[0m\u001b[0;34m.\u001b[0m\u001b[0msocket\u001b[0m\u001b[0;34m.\u001b[0m\u001b[0m__init__\u001b[0m\u001b[0;34m(\u001b[0m\u001b[0mself\u001b[0m\u001b[0;34m,\u001b[0m \u001b[0mfamily\u001b[0m\u001b[0;34m,\u001b[0m \u001b[0mtype\u001b[0m\u001b[0;34m,\u001b[0m \u001b[0mproto\u001b[0m\u001b[0;34m,\u001b[0m \u001b[0mfileno\u001b[0m\u001b[0;34m)\u001b[0m\u001b[0;34m\u001b[0m\u001b[0;34m\u001b[0m\u001b[0m\n\u001b[0m\u001b[1;32m    145\u001b[0m         \u001b[0mself\u001b[0m\u001b[0;34m.\u001b[0m\u001b[0m_io_refs\u001b[0m \u001b[0;34m=\u001b[0m \u001b[0;36m0\u001b[0m\u001b[0;34m\u001b[0m\u001b[0;34m\u001b[0m\u001b[0m\n\u001b[1;32m    146\u001b[0m         \u001b[0mself\u001b[0m\u001b[0;34m.\u001b[0m\u001b[0m_closed\u001b[0m \u001b[0;34m=\u001b[0m \u001b[0;32mFalse\u001b[0m\u001b[0;34m\u001b[0m\u001b[0;34m\u001b[0m\u001b[0m\n",
      "\u001b[0;31mPermissionError\u001b[0m: [Errno 1] Operation not permitted"
     ]
    }
   ],
   "source": [
    "send( IP(dst=['nic.ar', 'uba.ar'], ttl=1))\n"
   ]
  },
  {
   "cell_type": "markdown",
   "metadata": {
    "id": "tCJqHiPIfAw_"
   },
   "source": [
    "### “send’n’receive”\n",
    "Ejercicio 3: Cómo sabemos si obtenemos respuesta? Enviando **y** recibiendo :)\n",
    "* Generar una consulta DNS (usando dst=\"8.8.8.8\") para averiguar la IP del servidor donde esta almacenado `www.dc.uba.ar`.\n",
    "    * *Hint: El protocolo DNS va por UDP. UDP es una capa superior a IP. El comando para DNS es  `qd=DNSQR(qname=web.a.buscar.com)`*"
   ]
  },
  {
   "cell_type": "code",
   "execution_count": null,
   "metadata": {
    "id": "EeTpiKn-fCXY"
   },
   "outputs": [],
   "source": []
  },
  {
   "cell_type": "markdown",
   "metadata": {
    "id": "DWLCNzuVfERZ"
   },
   "source": [
    "# Volvemos a las diapos"
   ]
  },
  {
   "cell_type": "markdown",
   "metadata": {
    "id": "JvRk-2oefIEq"
   },
   "source": [
    "Spoiler alert"
   ]
  },
  {
   "cell_type": "markdown",
   "metadata": {
    "id": "22DvAyImfKkc"
   },
   "source": [
    "Spoiler alert"
   ]
  },
  {
   "cell_type": "markdown",
   "metadata": {
    "id": "npYmaADBfKyA"
   },
   "source": [
    "Spoiler alert"
   ]
  },
  {
   "cell_type": "markdown",
   "metadata": {
    "id": "8Zg5yUSSfK_b"
   },
   "source": [
    "Spoiler alert"
   ]
  },
  {
   "cell_type": "markdown",
   "metadata": {
    "id": "DFC6UAbdfLLa"
   },
   "source": [
    "Spoiler alert"
   ]
  },
  {
   "cell_type": "markdown",
   "metadata": {
    "id": "gRV3tpWQfLX8"
   },
   "source": [
    "Spoiler alert"
   ]
  },
  {
   "cell_type": "markdown",
   "metadata": {
    "id": "XgnStCFwfLi4"
   },
   "source": [
    "Spoiler alert"
   ]
  },
  {
   "cell_type": "markdown",
   "metadata": {
    "id": "ouMSMkgRfLt6"
   },
   "source": [
    "Spoiler alert"
   ]
  },
  {
   "cell_type": "markdown",
   "metadata": {
    "id": "UFiO4FEQfL5o"
   },
   "source": [
    "Spoiler alert"
   ]
  },
  {
   "cell_type": "markdown",
   "metadata": {
    "id": "kyYmkNYffMKk"
   },
   "source": [
    "Spoiler alert"
   ]
  },
  {
   "cell_type": "markdown",
   "metadata": {
    "id": "1gjIe1IGfMfM"
   },
   "source": [
    "## ICMP"
   ]
  },
  {
   "cell_type": "markdown",
   "metadata": {
    "id": "XFwPEeUkfRGa"
   },
   "source": [
    "Ejercicio 4: Crear un paquete ICMP (*hint: Corre sobre IP*)"
   ]
  },
  {
   "cell_type": "code",
   "execution_count": null,
   "metadata": {
    "id": "TTrHApBbfN-L"
   },
   "outputs": [],
   "source": []
  },
  {
   "cell_type": "markdown",
   "metadata": {
    "id": "47Bq18SKfTKP"
   },
   "source": [
    "Ejercicio 5: Crear un paquete ICMP de tipo: Timestamp request, Echo request y Time Exceeded. (*hint: type=..*)\n"
   ]
  },
  {
   "cell_type": "code",
   "execution_count": null,
   "metadata": {
    "id": "Ohw7ryzOfVHI"
   },
   "outputs": [],
   "source": []
  },
  {
   "cell_type": "markdown",
   "metadata": {
    "id": "_jszp4FgfVhu"
   },
   "source": [
    "Ejercicio 6: Enviar los paquetes del ejercicio 5. Usar timeout para que no quede ciclando por siempre por si no obtiene respuesta. Imprimir la respuesta."
   ]
  },
  {
   "cell_type": "code",
   "execution_count": null,
   "metadata": {
    "id": "GYICqokQfY3r"
   },
   "outputs": [],
   "source": []
  },
  {
   "cell_type": "markdown",
   "metadata": {
    "id": "ytvOdcw6fY_l"
   },
   "source": [
    "Ejercicio 7: Conseguir un Destination Unreachable (puede ser dificil)"
   ]
  },
  {
   "cell_type": "code",
   "execution_count": null,
   "metadata": {
    "id": "wAB671w4fc4r"
   },
   "outputs": [],
   "source": []
  },
  {
   "cell_type": "markdown",
   "metadata": {
    "id": "tbhMYRBBfdOg"
   },
   "source": [
    "Ejercicio 8: Conseguir un time exceeded\n"
   ]
  },
  {
   "cell_type": "code",
   "execution_count": null,
   "metadata": {
    "id": "JnH2bK2Yffm_"
   },
   "outputs": [],
   "source": []
  },
  {
   "cell_type": "markdown",
   "metadata": {
    "id": "E8zvwZfQfh1d"
   },
   "source": [
    "Ejercicio 9: Utilizando Time Exceeded y Echo request, conocer las IPs del camino que hace el datagrama IP."
   ]
  },
  {
   "cell_type": "code",
   "execution_count": null,
   "metadata": {
    "id": "ddq7Z_vRfiNv"
   },
   "outputs": [],
   "source": []
  }
 ],
 "metadata": {
  "colab": {
   "collapsed_sections": [],
   "name": "Consignas ICMP.ipynb",
   "provenance": []
  },
  "kernelspec": {
   "display_name": "Python 3",
   "language": "python",
   "name": "python3"
  },
  "language_info": {
   "codemirror_mode": {
    "name": "ipython",
    "version": 3
   },
   "file_extension": ".py",
   "mimetype": "text/x-python",
   "name": "python",
   "nbconvert_exporter": "python",
   "pygments_lexer": "ipython3",
   "version": "3.6.9"
  }
 },
 "nbformat": 4,
 "nbformat_minor": 4
}
