{
  "nbformat": 4,
  "nbformat_minor": 0,
  "metadata": {
    "colab": {
      "name": "Consignas_ICMP (1).ipynb",
      "provenance": [],
      "collapsed_sections": []
    },
    "kernelspec": {
      "display_name": "Python 3",
      "language": "python",
      "name": "python3"
    },
    "language_info": {
      "codemirror_mode": {
        "name": "ipython",
        "version": 3
      },
      "file_extension": ".py",
      "mimetype": "text/x-python",
      "name": "python",
      "nbconvert_exporter": "python",
      "pygments_lexer": "ipython3",
      "version": "3.6.9"
    }
  },
  "cells": [
    {
      "cell_type": "markdown",
      "metadata": {
        "id": "1W9LlWTDepwW"
      },
      "source": [
        "## Bienvenides al taller de Traceroute"
      ]
    },
    {
      "cell_type": "code",
      "metadata": {
        "id": "T05RZqDjeuA1",
        "colab": {
          "base_uri": "https://localhost:8080/"
        },
        "outputId": "270f7726-3083-4abd-cc5c-90ecacfd02d2"
      },
      "source": [
        "!pip install scapy\n",
        "from scapy.all import *"
      ],
      "execution_count": 1,
      "outputs": [
        {
          "output_type": "stream",
          "text": [
            "Collecting scapy\n",
            "\u001b[?25l  Downloading https://files.pythonhosted.org/packages/85/47/c919432ca258f354bb2c1e645623f891603f185bfc7563d4a21f6432e7ed/scapy-2.4.5.tar.gz (1.1MB)\n",
            "\u001b[K     |████████████████████████████████| 1.1MB 3.8MB/s \n",
            "\u001b[?25hBuilding wheels for collected packages: scapy\n",
            "  Building wheel for scapy (setup.py) ... \u001b[?25l\u001b[?25hdone\n",
            "  Created wheel for scapy: filename=scapy-2.4.5-py2.py3-none-any.whl size=1261540 sha256=dda9379f50f9963595991ed1e46cfdee9bad40ed022f35d00754898ab17c65ad\n",
            "  Stored in directory: /root/.cache/pip/wheels/31/80/dc/d5fc39b70e1af4f4636356c849de414a76e83a89d8ee9cd78f\n",
            "Successfully built scapy\n",
            "Installing collected packages: scapy\n",
            "Successfully installed scapy-2.4.5\n"
          ],
          "name": "stdout"
        }
      ]
    },
    {
      "cell_type": "markdown",
      "metadata": {
        "id": "xgDKeASsewZA"
      },
      "source": [
        "# SCAPY\n",
        "\n",
        "---\n",
        "\n",
        "* Es una librería de Python\n",
        "* Es muy útil para:\n",
        "    * Crear paquetes de red\n",
        "    * Decodificar paquetes\n",
        "    * Capturar\n",
        "    * Enviar y recibir paquetes\n",
        "    * Documentación: https://scapy.readthedocs.io/en/latest/\n"
      ]
    },
    {
      "cell_type": "markdown",
      "metadata": {
        "id": "zHAYcxe6e7Fj"
      },
      "source": [
        "Ejercicio 1: \n",
        "* Crear paquete IP. Hacer ls a IP.\n",
        "* Poner destino (dst) a `nic.ar`\n",
        "* Poner TTL = 10\n",
        "* Probar con otros protocolos\n",
        "* Hacer hexdump(frame).. Nos suena?"
      ]
    },
    {
      "cell_type": "code",
      "metadata": {
        "id": "coXP81Ybe8eV",
        "colab": {
          "base_uri": "https://localhost:8080/"
        },
        "outputId": "0461f92d-fa3c-41f0-d799-0eb1590c7258"
      },
      "source": [
        "IP()\n",
        "# ls(IP): Si tenemos dudas de que parametros recibe\n",
        "IP(dst='nic.ar', ttl=10)\n",
        "   \n",
        "# Encapsular\n",
        "frame = Ether(dst='ff:ff:ff:ff:ff:ff')/IP(dst=['nic.ar', 'uba.ar'], ttl=1)/TCP()/\"GET /index.html HTTP/1.0 \\n\\n\"\n",
        "hexdump(frame)\n",
        "\n",
        "r = raw(frame)\n",
        "\n",
        "Ether(r)"
      ],
      "execution_count": 2,
      "outputs": [
        {
          "output_type": "stream",
          "text": [
            "0000  FF FF FF FF FF FF 02 42 AC 1C 00 02 08 00 45 00  .......B......E.\n",
            "0010  00 43 00 01 00 00 01 06 B3 1F AC 1C 00 02 C8 6C  .C.............l\n",
            "0020  92 0A 00 14 00 50 00 00 00 00 00 00 00 00 50 02  .....P........P.\n",
            "0030  20 00 B7 1C 00 00 47 45 54 20 2F 69 6E 64 65 78   .....GET /index\n",
            "0040  2E 68 74 6D 6C 20 48 54 54 50 2F 31 2E 30 20 0A  .html HTTP/1.0 .\n",
            "0050  0A                                               .\n"
          ],
          "name": "stdout"
        },
        {
          "output_type": "execute_result",
          "data": {
            "text/plain": [
              "<Ether  dst=ff:ff:ff:ff:ff:ff src=02:42:ac:1c:00:02 type=IPv4 |<IP  version=4 ihl=5 tos=0x0 len=67 id=1 flags= frag=0 ttl=1 proto=6 chksum=0xb31f src=172.28.0.2 dst=200.108.146.10 |<TCP  sport=20 dport=80 seq=0 ack=0 dataofs=5 reserved=0 flags=S window=8192 chksum=0xb71c urgptr=0 |<Raw  load='GET /index.html HTTP/1.0 \\n\\n' |>>>>"
            ]
          },
          "metadata": {
            "tags": []
          },
          "execution_count": 2
        }
      ]
    },
    {
      "cell_type": "markdown",
      "metadata": {
        "id": "4lZWwZyAe9v-"
      },
      "source": [
        "Ejercicio 2: Vamos por algo más divertido.. *Enviar paquetes*\n",
        "* Usar send - capa 3\n",
        "* Usar sendp - capa 2"
      ]
    },
    {
      "cell_type": "code",
      "metadata": {
        "id": "cdPF1R0FfASr",
        "colab": {
          "base_uri": "https://localhost:8080/"
        },
        "outputId": "86fe4b41-06ec-47d5-f728-4aff2f464530"
      },
      "source": [
        "send(IP(dst=['nic.ar', 'uba.ar'], ttl=1))\n"
      ],
      "execution_count": 3,
      "outputs": [
        {
          "output_type": "stream",
          "text": [
            "\n",
            "Sent 2 packets.\n"
          ],
          "name": "stdout"
        }
      ]
    },
    {
      "cell_type": "markdown",
      "metadata": {
        "id": "tCJqHiPIfAw_"
      },
      "source": [
        "### “send’n’receive”\n",
        "Ejercicio 3: Cómo sabemos si obtenemos respuesta? Enviando **y** recibiendo :)\n",
        "* Generar una consulta DNS (usando dst=\"8.8.8.8\") para averiguar la IP del servidor donde esta almacenado `www.dc.uba.ar`.\n",
        "    * *Hint: El protocolo DNS va por UDP. UDP es una capa superior a IP. El comando para DNS es  `qd=DNSQR(qname=web.a.buscar.com)`*"
      ]
    },
    {
      "cell_type": "code",
      "metadata": {
        "id": "EeTpiKn-fCXY",
        "colab": {
          "base_uri": "https://localhost:8080/"
        },
        "outputId": "71b16ebe-5f11-4cee-ac95-24694140e7f8"
      },
      "source": [
        "# sr1: send recieve 1\n",
        "# 8.8.8.8 es un DNS de google\n",
        "sr1(IP(dst=\"8.8.8.8\")/UDP()/DNS(qd=DNSQR(qname=\"www.dc.uba.ar\")))"
      ],
      "execution_count": 5,
      "outputs": [
        {
          "output_type": "stream",
          "text": [
            "Begin emission:\n",
            "Finished sending 1 packets.\n",
            "\n",
            "Received 8 packets, got 1 answers, remaining 0 packets\n"
          ],
          "name": "stdout"
        },
        {
          "output_type": "execute_result",
          "data": {
            "text/plain": [
              "<IP  version=4 ihl=5 tos=0x0 len=109 id=9515 flags= frag=0 ttl=114 proto=17 chksum=0x6727 src=8.8.8.8 dst=172.28.0.2 |<UDP  sport=53 dport=53 len=89 chksum=0x1ec8 |<DNS  id=0 qr=1 opcode=QUERY aa=0 tc=0 rd=1 ra=1 z=0 ad=0 cd=0 rcode=ok qdcount=1 ancount=3 nscount=0 arcount=0 qd=<DNSQR  qname='www.dc.uba.ar.' qtype=A qclass=IN |> an=<DNSRR  rrname='www.dc.uba.ar.' type=CNAME rclass=IN ttl=599 rdlen=None rdata='www-1.dc.uba.ar.' |<DNSRR  rrname='www-1.dc.uba.ar.' type=CNAME rclass=IN ttl=599 rdlen=None rdata='dc.uba.ar.' |<DNSRR  rrname='dc.uba.ar.' type=A rclass=IN ttl=599 rdlen=None rdata=157.92.27.128 |>>> ns=None ar=None |>>>"
            ]
          },
          "metadata": {
            "tags": []
          },
          "execution_count": 5
        }
      ]
    },
    {
      "cell_type": "markdown",
      "metadata": {
        "id": "fXBOfvMApT1o"
      },
      "source": [
        ""
      ]
    },
    {
      "cell_type": "markdown",
      "metadata": {
        "id": "DWLCNzuVfERZ"
      },
      "source": [
        "# Volvemos a las diapos"
      ]
    },
    {
      "cell_type": "markdown",
      "metadata": {
        "id": "JvRk-2oefIEq"
      },
      "source": [
        "Spoiler alert"
      ]
    },
    {
      "cell_type": "markdown",
      "metadata": {
        "id": "22DvAyImfKkc"
      },
      "source": [
        "Spoiler alert"
      ]
    },
    {
      "cell_type": "markdown",
      "metadata": {
        "id": "npYmaADBfKyA"
      },
      "source": [
        "Spoiler alert"
      ]
    },
    {
      "cell_type": "markdown",
      "metadata": {
        "id": "8Zg5yUSSfK_b"
      },
      "source": [
        "Spoiler alert"
      ]
    },
    {
      "cell_type": "markdown",
      "metadata": {
        "id": "DFC6UAbdfLLa"
      },
      "source": [
        "Spoiler alert"
      ]
    },
    {
      "cell_type": "markdown",
      "metadata": {
        "id": "gRV3tpWQfLX8"
      },
      "source": [
        "Spoiler alert"
      ]
    },
    {
      "cell_type": "markdown",
      "metadata": {
        "id": "XgnStCFwfLi4"
      },
      "source": [
        "Spoiler alert"
      ]
    },
    {
      "cell_type": "markdown",
      "metadata": {
        "id": "ouMSMkgRfLt6"
      },
      "source": [
        "Spoiler alert"
      ]
    },
    {
      "cell_type": "markdown",
      "metadata": {
        "id": "UFiO4FEQfL5o"
      },
      "source": [
        "Spoiler alert"
      ]
    },
    {
      "cell_type": "markdown",
      "metadata": {
        "id": "kyYmkNYffMKk"
      },
      "source": [
        "Spoiler alert"
      ]
    },
    {
      "cell_type": "markdown",
      "metadata": {
        "id": "1gjIe1IGfMfM"
      },
      "source": [
        "## ICMP"
      ]
    },
    {
      "cell_type": "markdown",
      "metadata": {
        "id": "XFwPEeUkfRGa"
      },
      "source": [
        "Ejercicio 4: Crear un paquete ICMP (*hint: Corre sobre IP*)"
      ]
    },
    {
      "cell_type": "code",
      "metadata": {
        "id": "TTrHApBbfN-L",
        "colab": {
          "base_uri": "https://localhost:8080/"
        },
        "outputId": "1bbb014e-5b52-4a4e-809f-2c5e0e412929"
      },
      "source": [
        "# 8 - echo request\n",
        "pkg = IP()/ICMP()\n",
        "ls(ICMP)"
      ],
      "execution_count": 7,
      "outputs": [
        {
          "output_type": "stream",
          "text": [
            "type       : ByteEnumField                       = ('8')\n",
            "code       : MultiEnumField (Depends on 8)       = ('0')\n",
            "chksum     : XShortField                         = ('None')\n",
            "id         : XShortField (Cond)                  = ('0')\n",
            "seq        : XShortField (Cond)                  = ('0')\n",
            "ts_ori     : ICMPTimeStampField (Cond)           = ('82154313')\n",
            "ts_rx      : ICMPTimeStampField (Cond)           = ('82154313')\n",
            "ts_tx      : ICMPTimeStampField (Cond)           = ('82154313')\n",
            "gw         : IPField (Cond)                      = (\"'0.0.0.0'\")\n",
            "ptr        : ByteField (Cond)                    = ('0')\n",
            "reserved   : ByteField (Cond)                    = ('0')\n",
            "length     : ByteField (Cond)                    = ('0')\n",
            "addr_mask  : IPField (Cond)                      = (\"'0.0.0.0'\")\n",
            "nexthopmtu : ShortField (Cond)                   = ('0')\n",
            "unused     : MultipleTypeField (ShortField, IntField, StrFixedLenField) = (\"b''\")\n"
          ],
          "name": "stdout"
        }
      ]
    },
    {
      "cell_type": "markdown",
      "metadata": {
        "id": "47Bq18SKfTKP"
      },
      "source": [
        "Ejercicio 5: Crear un paquete ICMP de tipo: Timestamp request, Echo request y Time Exceeded. (*hint: type=..*)\n"
      ]
    },
    {
      "cell_type": "code",
      "metadata": {
        "id": "Ohw7ryzOfVHI"
      },
      "source": [
        "TYPE_TIMESTAMP_REQUEST = 13\n",
        "TYPE_ECHO_REQUEST = 8\n",
        "TYPE_TIME_EXCEEDED = 11\n",
        "\n",
        "icmp_ts_req = IP(dst=\"dc.uba.ar\")/ICMP(type=TYPE_TIMESTAMP_REQUEST)"
      ],
      "execution_count": 21,
      "outputs": []
    },
    {
      "cell_type": "markdown",
      "metadata": {
        "id": "_jszp4FgfVhu"
      },
      "source": [
        "Ejercicio 6: Enviar los paquetes del ejercicio 5. Usar timeout para que no quede ciclando por siempre por si no obtiene respuesta. Imprimir la respuesta."
      ]
    },
    {
      "cell_type": "markdown",
      "metadata": {
        "id": "XUyl_ZERtp7c"
      },
      "source": [
        ""
      ]
    },
    {
      "cell_type": "code",
      "metadata": {
        "id": "GYICqokQfY3r",
        "colab": {
          "base_uri": "https://localhost:8080/"
        },
        "outputId": "875c4da3-a5c0-4ef3-cd60-088117a8d540"
      },
      "source": [
        "sr1(IP(dst=\"8.8.8.8\")/ICMP(type=TYPE_TIME_EXCEEDED), timeout=1)"
      ],
      "execution_count": 22,
      "outputs": [
        {
          "output_type": "stream",
          "text": [
            "Begin emission:\n",
            "Finished sending 1 packets.\n",
            "\n",
            "Received 30 packets, got 0 answers, remaining 1 packets\n"
          ],
          "name": "stdout"
        }
      ]
    },
    {
      "cell_type": "markdown",
      "metadata": {
        "id": "ytvOdcw6fY_l"
      },
      "source": [
        "Ejercicio 7: Conseguir un Destination Unreachable (puede ser dificil)"
      ]
    },
    {
      "cell_type": "code",
      "metadata": {
        "id": "wAB671w4fc4r",
        "colab": {
          "base_uri": "https://localhost:8080/",
          "height": 425
        },
        "outputId": "dc0a5cc8-07e2-4ee8-d748-f510f425b410"
      },
      "source": [
        "sr1(IP(dst=\"192.168.0.5:9\"), timeout=1)"
      ],
      "execution_count": 30,
      "outputs": [
        {
          "output_type": "error",
          "ename": "gaierror",
          "evalue": "ignored",
          "traceback": [
            "\u001b[0;31m---------------------------------------------------------------------------\u001b[0m",
            "\u001b[0;31mOSError\u001b[0m                                   Traceback (most recent call last)",
            "\u001b[0;32m/usr/local/lib/python3.7/dist-packages/scapy/fields.py\u001b[0m in \u001b[0;36mh2i\u001b[0;34m(self, pkt, x)\u001b[0m\n\u001b[1;32m    757\u001b[0m             \u001b[0;32mtry\u001b[0m\u001b[0;34m:\u001b[0m\u001b[0;34m\u001b[0m\u001b[0;34m\u001b[0m\u001b[0m\n\u001b[0;32m--> 758\u001b[0;31m                 \u001b[0minet_aton\u001b[0m\u001b[0;34m(\u001b[0m\u001b[0mx\u001b[0m\u001b[0;34m)\u001b[0m\u001b[0;34m\u001b[0m\u001b[0;34m\u001b[0m\u001b[0m\n\u001b[0m\u001b[1;32m    759\u001b[0m             \u001b[0;32mexcept\u001b[0m \u001b[0msocket\u001b[0m\u001b[0;34m.\u001b[0m\u001b[0merror\u001b[0m\u001b[0;34m:\u001b[0m\u001b[0;34m\u001b[0m\u001b[0;34m\u001b[0m\u001b[0m\n",
            "\u001b[0;31mOSError\u001b[0m: illegal IP address string passed to inet_aton",
            "\nDuring handling of the above exception, another exception occurred:\n",
            "\u001b[0;31mgaierror\u001b[0m                                  Traceback (most recent call last)",
            "\u001b[0;32m<ipython-input-30-f9031ac1db6a>\u001b[0m in \u001b[0;36m<module>\u001b[0;34m()\u001b[0m\n\u001b[0;32m----> 1\u001b[0;31m \u001b[0msr1\u001b[0m\u001b[0;34m(\u001b[0m\u001b[0mIP\u001b[0m\u001b[0;34m(\u001b[0m\u001b[0mdst\u001b[0m\u001b[0;34m=\u001b[0m\u001b[0;34m\"192.168.0.5:9\"\u001b[0m\u001b[0;34m)\u001b[0m\u001b[0;34m,\u001b[0m \u001b[0mtimeout\u001b[0m\u001b[0;34m=\u001b[0m\u001b[0;36m1\u001b[0m\u001b[0;34m)\u001b[0m\u001b[0;34m\u001b[0m\u001b[0;34m\u001b[0m\u001b[0m\n\u001b[0m",
            "\u001b[0;32m/usr/local/lib/python3.7/dist-packages/scapy/base_classes.py\u001b[0m in \u001b[0;36m__call__\u001b[0;34m(cls, *args, **kargs)\u001b[0m\n\u001b[1;32m    387\u001b[0m             \u001b[0mcls\u001b[0m\u001b[0;34m.\u001b[0m\u001b[0m__dict__\u001b[0m\u001b[0;34m\u001b[0m\u001b[0;34m\u001b[0m\u001b[0m\n\u001b[1;32m    388\u001b[0m         )\n\u001b[0;32m--> 389\u001b[0;31m         \u001b[0mi\u001b[0m\u001b[0;34m.\u001b[0m\u001b[0m__init__\u001b[0m\u001b[0;34m(\u001b[0m\u001b[0;34m*\u001b[0m\u001b[0margs\u001b[0m\u001b[0;34m,\u001b[0m \u001b[0;34m**\u001b[0m\u001b[0mkargs\u001b[0m\u001b[0;34m)\u001b[0m\u001b[0;34m\u001b[0m\u001b[0;34m\u001b[0m\u001b[0m\n\u001b[0m\u001b[1;32m    390\u001b[0m         \u001b[0;32mreturn\u001b[0m \u001b[0mi\u001b[0m  \u001b[0;31m# type: ignore\u001b[0m\u001b[0;34m\u001b[0m\u001b[0;34m\u001b[0m\u001b[0m\n\u001b[1;32m    391\u001b[0m \u001b[0;34m\u001b[0m\u001b[0m\n",
            "\u001b[0;32m/usr/local/lib/python3.7/dist-packages/scapy/packet.py\u001b[0m in \u001b[0;36m__init__\u001b[0;34m(self, _pkt, post_transform, _internal, _underlayer, **fields)\u001b[0m\n\u001b[1;32m    169\u001b[0m             \u001b[0;32mexcept\u001b[0m \u001b[0mKeyError\u001b[0m\u001b[0;34m:\u001b[0m\u001b[0;34m\u001b[0m\u001b[0;34m\u001b[0m\u001b[0m\n\u001b[1;32m    170\u001b[0m                 \u001b[0;32mcontinue\u001b[0m\u001b[0;34m\u001b[0m\u001b[0;34m\u001b[0m\u001b[0m\n\u001b[0;32m--> 171\u001b[0;31m             \u001b[0mself\u001b[0m\u001b[0;34m.\u001b[0m\u001b[0mfields\u001b[0m\u001b[0;34m[\u001b[0m\u001b[0mfname\u001b[0m\u001b[0;34m]\u001b[0m \u001b[0;34m=\u001b[0m \u001b[0mself\u001b[0m\u001b[0;34m.\u001b[0m\u001b[0mget_field\u001b[0m\u001b[0;34m(\u001b[0m\u001b[0mfname\u001b[0m\u001b[0;34m)\u001b[0m\u001b[0;34m.\u001b[0m\u001b[0many2i\u001b[0m\u001b[0;34m(\u001b[0m\u001b[0mself\u001b[0m\u001b[0;34m,\u001b[0m \u001b[0mvalue\u001b[0m\u001b[0;34m)\u001b[0m\u001b[0;34m\u001b[0m\u001b[0;34m\u001b[0m\u001b[0m\n\u001b[0m\u001b[1;32m    172\u001b[0m         \u001b[0;31m# The remaining fields are unknown\u001b[0m\u001b[0;34m\u001b[0m\u001b[0;34m\u001b[0m\u001b[0;34m\u001b[0m\u001b[0m\n\u001b[1;32m    173\u001b[0m         \u001b[0;32mfor\u001b[0m \u001b[0mfname\u001b[0m \u001b[0;32min\u001b[0m \u001b[0mfields\u001b[0m\u001b[0;34m:\u001b[0m\u001b[0;34m\u001b[0m\u001b[0;34m\u001b[0m\u001b[0m\n",
            "\u001b[0;32m/usr/local/lib/python3.7/dist-packages/scapy/fields.py\u001b[0m in \u001b[0;36many2i\u001b[0;34m(self, pkt, x)\u001b[0m\n\u001b[1;32m    791\u001b[0m     \u001b[0;32mdef\u001b[0m \u001b[0many2i\u001b[0m\u001b[0;34m(\u001b[0m\u001b[0mself\u001b[0m\u001b[0;34m,\u001b[0m \u001b[0mpkt\u001b[0m\u001b[0;34m,\u001b[0m \u001b[0mx\u001b[0m\u001b[0;34m)\u001b[0m\u001b[0;34m:\u001b[0m\u001b[0;34m\u001b[0m\u001b[0;34m\u001b[0m\u001b[0m\n\u001b[1;32m    792\u001b[0m         \u001b[0;31m# type: (Optional[Packet], Any) -> Any\u001b[0m\u001b[0;34m\u001b[0m\u001b[0;34m\u001b[0m\u001b[0;34m\u001b[0m\u001b[0m\n\u001b[0;32m--> 793\u001b[0;31m         \u001b[0;32mreturn\u001b[0m \u001b[0mself\u001b[0m\u001b[0;34m.\u001b[0m\u001b[0mh2i\u001b[0m\u001b[0;34m(\u001b[0m\u001b[0mpkt\u001b[0m\u001b[0;34m,\u001b[0m \u001b[0mx\u001b[0m\u001b[0;34m)\u001b[0m\u001b[0;34m\u001b[0m\u001b[0;34m\u001b[0m\u001b[0m\n\u001b[0m\u001b[1;32m    794\u001b[0m \u001b[0;34m\u001b[0m\u001b[0m\n\u001b[1;32m    795\u001b[0m     \u001b[0;32mdef\u001b[0m \u001b[0mi2repr\u001b[0m\u001b[0;34m(\u001b[0m\u001b[0mself\u001b[0m\u001b[0;34m,\u001b[0m \u001b[0mpkt\u001b[0m\u001b[0;34m,\u001b[0m \u001b[0mx\u001b[0m\u001b[0;34m)\u001b[0m\u001b[0;34m:\u001b[0m\u001b[0;34m\u001b[0m\u001b[0;34m\u001b[0m\u001b[0m\n",
            "\u001b[0;32m/usr/local/lib/python3.7/dist-packages/scapy/fields.py\u001b[0m in \u001b[0;36mh2i\u001b[0;34m(self, pkt, x)\u001b[0m\n\u001b[1;32m    758\u001b[0m                 \u001b[0minet_aton\u001b[0m\u001b[0;34m(\u001b[0m\u001b[0mx\u001b[0m\u001b[0;34m)\u001b[0m\u001b[0;34m\u001b[0m\u001b[0;34m\u001b[0m\u001b[0m\n\u001b[1;32m    759\u001b[0m             \u001b[0;32mexcept\u001b[0m \u001b[0msocket\u001b[0m\u001b[0;34m.\u001b[0m\u001b[0merror\u001b[0m\u001b[0;34m:\u001b[0m\u001b[0;34m\u001b[0m\u001b[0;34m\u001b[0m\u001b[0m\n\u001b[0;32m--> 760\u001b[0;31m                 \u001b[0;32mreturn\u001b[0m \u001b[0mNet\u001b[0m\u001b[0;34m(\u001b[0m\u001b[0mx\u001b[0m\u001b[0;34m)\u001b[0m\u001b[0;34m\u001b[0m\u001b[0;34m\u001b[0m\u001b[0m\n\u001b[0m\u001b[1;32m    761\u001b[0m         \u001b[0;32melif\u001b[0m \u001b[0misinstance\u001b[0m\u001b[0;34m(\u001b[0m\u001b[0mx\u001b[0m\u001b[0;34m,\u001b[0m \u001b[0mlist\u001b[0m\u001b[0;34m)\u001b[0m\u001b[0;34m:\u001b[0m\u001b[0;34m\u001b[0m\u001b[0;34m\u001b[0m\u001b[0m\n\u001b[1;32m    762\u001b[0m             \u001b[0;32mreturn\u001b[0m \u001b[0;34m[\u001b[0m\u001b[0mself\u001b[0m\u001b[0;34m.\u001b[0m\u001b[0mh2i\u001b[0m\u001b[0;34m(\u001b[0m\u001b[0mpkt\u001b[0m\u001b[0;34m,\u001b[0m \u001b[0mn\u001b[0m\u001b[0;34m)\u001b[0m \u001b[0;32mfor\u001b[0m \u001b[0mn\u001b[0m \u001b[0;32min\u001b[0m \u001b[0mx\u001b[0m\u001b[0;34m]\u001b[0m\u001b[0;34m\u001b[0m\u001b[0;34m\u001b[0m\u001b[0m\n",
            "\u001b[0;32m/usr/local/lib/python3.7/dist-packages/scapy/base_classes.py\u001b[0m in \u001b[0;36m__init__\u001b[0;34m(self, net, stop)\u001b[0m\n\u001b[1;32m    160\u001b[0m             \u001b[0mself\u001b[0m\u001b[0;34m.\u001b[0m\u001b[0mnet\u001b[0m \u001b[0;34m=\u001b[0m \u001b[0mnet\u001b[0m  \u001b[0;31m# type: Union[None, str]\u001b[0m\u001b[0;34m\u001b[0m\u001b[0;34m\u001b[0m\u001b[0m\n\u001b[1;32m    161\u001b[0m             \u001b[0minv_mask\u001b[0m \u001b[0;34m=\u001b[0m \u001b[0mself\u001b[0m\u001b[0;34m.\u001b[0m\u001b[0mmax_mask\u001b[0m \u001b[0;34m-\u001b[0m \u001b[0mself\u001b[0m\u001b[0;34m.\u001b[0m\u001b[0mmask\u001b[0m\u001b[0;34m\u001b[0m\u001b[0;34m\u001b[0m\u001b[0m\n\u001b[0;32m--> 162\u001b[0;31m             \u001b[0mself\u001b[0m\u001b[0;34m.\u001b[0m\u001b[0mstart\u001b[0m \u001b[0;34m=\u001b[0m \u001b[0mself\u001b[0m\u001b[0;34m.\u001b[0m\u001b[0mip2int\u001b[0m\u001b[0;34m(\u001b[0m\u001b[0mnet\u001b[0m\u001b[0;34m)\u001b[0m \u001b[0;34m>>\u001b[0m \u001b[0minv_mask\u001b[0m \u001b[0;34m<<\u001b[0m \u001b[0minv_mask\u001b[0m\u001b[0;34m\u001b[0m\u001b[0;34m\u001b[0m\u001b[0m\n\u001b[0m\u001b[1;32m    163\u001b[0m             \u001b[0mself\u001b[0m\u001b[0;34m.\u001b[0m\u001b[0mcount\u001b[0m \u001b[0;34m=\u001b[0m \u001b[0;36m1\u001b[0m \u001b[0;34m<<\u001b[0m \u001b[0minv_mask\u001b[0m\u001b[0;34m\u001b[0m\u001b[0;34m\u001b[0m\u001b[0m\n\u001b[1;32m    164\u001b[0m             \u001b[0mself\u001b[0m\u001b[0;34m.\u001b[0m\u001b[0mstop\u001b[0m \u001b[0;34m=\u001b[0m \u001b[0mself\u001b[0m\u001b[0;34m.\u001b[0m\u001b[0mstart\u001b[0m \u001b[0;34m+\u001b[0m \u001b[0mself\u001b[0m\u001b[0;34m.\u001b[0m\u001b[0mcount\u001b[0m \u001b[0;34m-\u001b[0m \u001b[0;36m1\u001b[0m\u001b[0;34m\u001b[0m\u001b[0;34m\u001b[0m\u001b[0m\n",
            "\u001b[0;32m/usr/local/lib/python3.7/dist-packages/scapy/base_classes.py\u001b[0m in \u001b[0;36mip2int\u001b[0;34m(cls, addr)\u001b[0m\n\u001b[1;32m    138\u001b[0m         \u001b[0;31m# type: (str) -> int\u001b[0m\u001b[0;34m\u001b[0m\u001b[0;34m\u001b[0m\u001b[0;34m\u001b[0m\u001b[0m\n\u001b[1;32m    139\u001b[0m         return cast(int, struct.unpack(\n\u001b[0;32m--> 140\u001b[0;31m             \u001b[0;34m\"!I\"\u001b[0m\u001b[0;34m,\u001b[0m \u001b[0msocket\u001b[0m\u001b[0;34m.\u001b[0m\u001b[0minet_aton\u001b[0m\u001b[0;34m(\u001b[0m\u001b[0mcls\u001b[0m\u001b[0;34m.\u001b[0m\u001b[0mname2addr\u001b[0m\u001b[0;34m(\u001b[0m\u001b[0maddr\u001b[0m\u001b[0;34m)\u001b[0m\u001b[0;34m)\u001b[0m\u001b[0;34m\u001b[0m\u001b[0;34m\u001b[0m\u001b[0m\n\u001b[0m\u001b[1;32m    141\u001b[0m         )[0])\n\u001b[1;32m    142\u001b[0m \u001b[0;34m\u001b[0m\u001b[0m\n",
            "\u001b[0;32m/usr/local/lib/python3.7/dist-packages/scapy/base_classes.py\u001b[0m in \u001b[0;36mname2addr\u001b[0;34m(cls, name)\u001b[0m\n\u001b[1;32m    125\u001b[0m                 \u001b[0maddr_port\u001b[0m\u001b[0;34m[\u001b[0m\u001b[0;36m0\u001b[0m\u001b[0;34m]\u001b[0m\u001b[0;34m\u001b[0m\u001b[0;34m\u001b[0m\u001b[0m\n\u001b[1;32m    126\u001b[0m                 \u001b[0;32mfor\u001b[0m \u001b[0mfamily\u001b[0m\u001b[0;34m,\u001b[0m \u001b[0m_\u001b[0m\u001b[0;34m,\u001b[0m \u001b[0m_\u001b[0m\u001b[0;34m,\u001b[0m \u001b[0m_\u001b[0m\u001b[0;34m,\u001b[0m \u001b[0maddr_port\u001b[0m \u001b[0;32min\u001b[0m\u001b[0;34m\u001b[0m\u001b[0;34m\u001b[0m\u001b[0m\n\u001b[0;32m--> 127\u001b[0;31m                 \u001b[0msocket\u001b[0m\u001b[0;34m.\u001b[0m\u001b[0mgetaddrinfo\u001b[0m\u001b[0;34m(\u001b[0m\u001b[0mname\u001b[0m\u001b[0;34m,\u001b[0m \u001b[0;32mNone\u001b[0m\u001b[0;34m,\u001b[0m \u001b[0mcls\u001b[0m\u001b[0;34m.\u001b[0m\u001b[0mfamily\u001b[0m\u001b[0;34m)\u001b[0m\u001b[0;34m\u001b[0m\u001b[0;34m\u001b[0m\u001b[0m\n\u001b[0m\u001b[1;32m    128\u001b[0m                 \u001b[0;32mif\u001b[0m \u001b[0mfamily\u001b[0m \u001b[0;34m==\u001b[0m \u001b[0mcls\u001b[0m\u001b[0;34m.\u001b[0m\u001b[0mfamily\u001b[0m\u001b[0;34m\u001b[0m\u001b[0;34m\u001b[0m\u001b[0m\n\u001b[1;32m    129\u001b[0m             )\n",
            "\u001b[0;32m/usr/lib/python3.7/socket.py\u001b[0m in \u001b[0;36mgetaddrinfo\u001b[0;34m(host, port, family, type, proto, flags)\u001b[0m\n\u001b[1;32m    750\u001b[0m     \u001b[0;31m# and socket type values to enum constants.\u001b[0m\u001b[0;34m\u001b[0m\u001b[0;34m\u001b[0m\u001b[0;34m\u001b[0m\u001b[0m\n\u001b[1;32m    751\u001b[0m     \u001b[0maddrlist\u001b[0m \u001b[0;34m=\u001b[0m \u001b[0;34m[\u001b[0m\u001b[0;34m]\u001b[0m\u001b[0;34m\u001b[0m\u001b[0;34m\u001b[0m\u001b[0m\n\u001b[0;32m--> 752\u001b[0;31m     \u001b[0;32mfor\u001b[0m \u001b[0mres\u001b[0m \u001b[0;32min\u001b[0m \u001b[0m_socket\u001b[0m\u001b[0;34m.\u001b[0m\u001b[0mgetaddrinfo\u001b[0m\u001b[0;34m(\u001b[0m\u001b[0mhost\u001b[0m\u001b[0;34m,\u001b[0m \u001b[0mport\u001b[0m\u001b[0;34m,\u001b[0m \u001b[0mfamily\u001b[0m\u001b[0;34m,\u001b[0m \u001b[0mtype\u001b[0m\u001b[0;34m,\u001b[0m \u001b[0mproto\u001b[0m\u001b[0;34m,\u001b[0m \u001b[0mflags\u001b[0m\u001b[0;34m)\u001b[0m\u001b[0;34m:\u001b[0m\u001b[0;34m\u001b[0m\u001b[0;34m\u001b[0m\u001b[0m\n\u001b[0m\u001b[1;32m    753\u001b[0m         \u001b[0maf\u001b[0m\u001b[0;34m,\u001b[0m \u001b[0msocktype\u001b[0m\u001b[0;34m,\u001b[0m \u001b[0mproto\u001b[0m\u001b[0;34m,\u001b[0m \u001b[0mcanonname\u001b[0m\u001b[0;34m,\u001b[0m \u001b[0msa\u001b[0m \u001b[0;34m=\u001b[0m \u001b[0mres\u001b[0m\u001b[0;34m\u001b[0m\u001b[0;34m\u001b[0m\u001b[0m\n\u001b[1;32m    754\u001b[0m         addrlist.append((_intenum_converter(af, AddressFamily),\n",
            "\u001b[0;31mgaierror\u001b[0m: [Errno -2] Name or service not known"
          ]
        }
      ]
    },
    {
      "cell_type": "markdown",
      "metadata": {
        "id": "EZ-Jf3mhxIn9"
      },
      "source": [
        ""
      ]
    },
    {
      "cell_type": "markdown",
      "metadata": {
        "id": "tbhMYRBBfdOg"
      },
      "source": [
        "Ejercicio 8: Conseguir un time exceeded\n"
      ]
    },
    {
      "cell_type": "code",
      "metadata": {
        "id": "JnH2bK2Yffm_",
        "colab": {
          "base_uri": "https://localhost:8080/"
        },
        "outputId": "9c0672ae-70c3-4acf-cc6e-808c380d2f2e"
      },
      "source": [
        "r = sr1(IP(dst=\"www.google.com\", ttl=1))\n",
        "r.type"
      ],
      "execution_count": 37,
      "outputs": [
        {
          "output_type": "stream",
          "text": [
            "Begin emission:\n",
            "Finished sending 1 packets.\n",
            "\n",
            "Received 3 packets, got 1 answers, remaining 0 packets\n"
          ],
          "name": "stdout"
        },
        {
          "output_type": "execute_result",
          "data": {
            "text/plain": [
              "11"
            ]
          },
          "metadata": {
            "tags": []
          },
          "execution_count": 37
        }
      ]
    },
    {
      "cell_type": "markdown",
      "metadata": {
        "id": "E8zvwZfQfh1d"
      },
      "source": [
        "Ejercicio 9: Utilizando Time Exceeded y Echo request, conocer las IPs del camino que hace el datagrama IP."
      ]
    },
    {
      "cell_type": "code",
      "metadata": {
        "id": "ddq7Z_vRfiNv",
        "colab": {
          "base_uri": "https://localhost:8080/"
        },
        "outputId": "7ff75e15-ce99-42d6-e041-d84ab9e2bcad"
      },
      "source": [
        "# esto es traceroute\n",
        "ttl = 1\n",
        "while ttl < 10:\n",
        "  r = sr1(IP(dst=\"www.tencent.com\", ttl=ttl)/ICMP(type=8), timeout=1, verbose=False)\n",
        "  if r is not None and r.type == 11:\n",
        "    print(r.src)\n",
        "\n",
        "  ttl+=1"
      ],
      "execution_count": 46,
      "outputs": [
        {
          "output_type": "stream",
          "text": [
            "172.28.0.1\n"
          ],
          "name": "stdout"
        }
      ]
    },
    {
      "cell_type": "code",
      "metadata": {
        "id": "2axZ58x7zZbA"
      },
      "source": [
        ""
      ],
      "execution_count": null,
      "outputs": []
    }
  ]
}